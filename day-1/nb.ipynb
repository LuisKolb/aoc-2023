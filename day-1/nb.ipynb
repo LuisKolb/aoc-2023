{
 "cells": [
  {
   "cell_type": "markdown",
   "metadata": {},
   "source": [
    "## part 1"
   ]
  },
  {
   "cell_type": "code",
   "execution_count": 48,
   "metadata": {},
   "outputs": [],
   "source": [
    "def get_digits(line:str):\n",
    "    res = [int(c) for c in line if c in '123456789']\n",
    "    return int(f'{res[0]}{res[-1]}')"
   ]
  },
  {
   "cell_type": "code",
   "execution_count": 49,
   "metadata": {},
   "outputs": [
    {
     "data": {
      "text/plain": [
       "53386"
      ]
     },
     "execution_count": 49,
     "metadata": {},
     "output_type": "execute_result"
    }
   ],
   "source": [
    "sum = 0\n",
    "with open('input.txt', 'r') as f:\n",
    "    for line in f:\n",
    "        sum += get_digits(line)\n",
    "\n",
    "sum"
   ]
  },
  {
   "cell_type": "markdown",
   "metadata": {},
   "source": [
    "## part 2"
   ]
  },
  {
   "cell_type": "code",
   "execution_count": 152,
   "metadata": {},
   "outputs": [],
   "source": [
    "repl = {'one':      '1',\n",
    "        'two':      '2',\n",
    "        'three':    '3',\n",
    "        'four':     '4',\n",
    "        'five':     '5',\n",
    "        'six':      '6',\n",
    "        'seven':    '7',\n",
    "        'eight':    '8',\n",
    "        'nine':     '9',\n",
    "        '1':        '1',\n",
    "        '2':        '2',\n",
    "        '3':        '3',\n",
    "        '4':        '4',\n",
    "        '5':        '5',\n",
    "        '6':        '6',\n",
    "        '7':        '7',\n",
    "        '8':        '8',\n",
    "        '9':        '9',\n",
    "    }\n",
    "\n",
    "def get_digits(line:str):\n",
    "    earliest = len(line)    # ltr\n",
    "    latest = 0              # ltr\n",
    "    first_word = ''         # ltr\n",
    "    last_word = ''          # ltr\n",
    "\n",
    "    for s in repl.keys():\n",
    "        pos = line.find(s)\n",
    "        if pos > -1 and  pos < earliest:\n",
    "            earliest = pos\n",
    "            first_word = s\n",
    "\n",
    "    for s in repl.keys():\n",
    "        pos = line.rfind(s)\n",
    "        if pos > -1 and pos >= latest:\n",
    "            latest = pos\n",
    "            last_word = s\n",
    "    \n",
    "    # print(earliest, ':', first_word)\n",
    "    # print(latest, ':', last_word)\n",
    "\n",
    "    if first_word:\n",
    "        line = repl[first_word] + line\n",
    "    if last_word:\n",
    "        line = line + repl[last_word]\n",
    "\n",
    "    res = [int(c) for c in line if (c in '123456789')]\n",
    "    if len(res) > 0:\n",
    "        return int(f'{res[0]}{res[-1]}')\n",
    "    else:\n",
    "        return 0"
   ]
  },
  {
   "cell_type": "code",
   "execution_count": 155,
   "metadata": {},
   "outputs": [
    {
     "data": {
      "text/plain": [
       "281"
      ]
     },
     "execution_count": 155,
     "metadata": {},
     "output_type": "execute_result"
    }
   ],
   "source": [
    "test = [\n",
    "'two1nine',\n",
    "'eightwothree',\n",
    "'abcone2threexyz',\n",
    "'xtwone3four',\n",
    "'4nineeightseven2',\n",
    "'zoneight234',\n",
    "'7pqrstsixteen',\n",
    "]\n",
    "\n",
    "sum = 0\n",
    "for line in test:\n",
    "    sum += get_digits(line)\n",
    "sum"
   ]
  },
  {
   "cell_type": "code",
   "execution_count": 156,
   "metadata": {},
   "outputs": [
    {
     "data": {
      "text/plain": [
       "53312"
      ]
     },
     "execution_count": 156,
     "metadata": {},
     "output_type": "execute_result"
    }
   ],
   "source": [
    "sum = 0\n",
    "with open('input.txt', 'r') as f:\n",
    "    for line in f:\n",
    "        sum += get_digits(line)\n",
    "sum"
   ]
  },
  {
   "cell_type": "code",
   "execution_count": null,
   "metadata": {},
   "outputs": [],
   "source": []
  }
 ],
 "metadata": {
  "kernelspec": {
   "display_name": "venv",
   "language": "python",
   "name": "python3"
  },
  "language_info": {
   "codemirror_mode": {
    "name": "ipython",
    "version": 3
   },
   "file_extension": ".py",
   "mimetype": "text/x-python",
   "name": "python",
   "nbconvert_exporter": "python",
   "pygments_lexer": "ipython3",
   "version": "3.10.9"
  }
 },
 "nbformat": 4,
 "nbformat_minor": 2
}
