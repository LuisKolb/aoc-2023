{
 "cells": [
  {
   "cell_type": "markdown",
   "metadata": {},
   "source": [
    "## part 1"
   ]
  },
  {
   "cell_type": "code",
   "execution_count": 3,
   "metadata": {},
   "outputs": [],
   "source": [
    "test = [\n",
    "    'Game 1: 3 blue, 4 red; 1 red, 2 green, 6 blue; 2 green',\n",
    "    'Game 2: 1 blue, 2 green; 3 green, 4 blue, 1 red; 1 green, 1 blue',\n",
    "    'Game 3: 8 green, 6 blue, 20 red; 5 blue, 4 red, 13 green; 5 green, 1 red',\n",
    "    'Game 4: 1 green, 3 red, 6 blue; 3 green, 6 red; 3 green, 15 blue, 14 red',\n",
    "    'Game 5: 6 red, 1 blue, 3 green; 2 blue, 1 red, 2 green',\n",
    "]"
   ]
  },
  {
   "cell_type": "code",
   "execution_count": 41,
   "metadata": {},
   "outputs": [],
   "source": [
    "col_limit = {\n",
    "    'red':12,\n",
    "    'green':13,\n",
    "    'blue':14,\n",
    "    }\n",
    "\n",
    "def parse_game(line:str, debug = False):\n",
    "    game, draws = line.split(':')\n",
    "    gameid = int(game.split(' ')[1])\n",
    "    for draw in draws.strip().split(';'):\n",
    "        for res in draw.strip().split(','):\n",
    "            score, color = res.strip().split(' ')\n",
    "            if int(score) > col_limit[color]:\n",
    "                if debug:\n",
    "                    print(f'game {gameid} is impossible: {score} {color}')\n",
    "                return 0\n",
    "    return gameid"
   ]
  },
  {
   "cell_type": "code",
   "execution_count": 44,
   "metadata": {},
   "outputs": [
    {
     "name": "stdout",
     "output_type": "stream",
     "text": [
      "game 3 is impossible: 20 red\n",
      "game 4 is impossible: 15 blue\n"
     ]
    }
   ],
   "source": [
    "for l in test:\n",
    "    parse_game(l, True)"
   ]
  },
  {
   "cell_type": "code",
   "execution_count": 45,
   "metadata": {},
   "outputs": [
    {
     "data": {
      "text/plain": [
       "2265"
      ]
     },
     "execution_count": 45,
     "metadata": {},
     "output_type": "execute_result"
    }
   ],
   "source": [
    "sum = 0\n",
    "with open('input.txt', 'r') as f:\n",
    "    for line in f:\n",
    "        sum += parse_game(line)\n",
    "sum"
   ]
  },
  {
   "cell_type": "markdown",
   "metadata": {},
   "source": [
    "## part 2"
   ]
  },
  {
   "cell_type": "code",
   "execution_count": null,
   "metadata": {},
   "outputs": [],
   "source": [
    "test = [\n",
    "    'Game 1: 3 blue, 4 red; 1 red, 2 green, 6 blue; 2 green',\n",
    "    'Game 2: 1 blue, 2 green; 3 green, 4 blue, 1 red; 1 green, 1 blue',\n",
    "    'Game 3: 8 green, 6 blue, 20 red; 5 blue, 4 red, 13 green; 5 green, 1 red',\n",
    "    'Game 4: 1 green, 3 red, 6 blue; 3 green, 6 red; 3 green, 15 blue, 14 red',\n",
    "    'Game 5: 6 red, 1 blue, 3 green; 2 blue, 1 red, 2 green',\n",
    "]"
   ]
  },
  {
   "cell_type": "code",
   "execution_count": 57,
   "metadata": {},
   "outputs": [],
   "source": [
    "col_limit = {\n",
    "    'red':12,\n",
    "    'green':13,\n",
    "    'blue':14,\n",
    "    }\n",
    "\n",
    "def parse_game(line:str, debug = False):\n",
    "    highest_per_col = {\n",
    "        'red':1,\n",
    "        'green':1,\n",
    "        'blue':1,\n",
    "    }\n",
    "\n",
    "    game, draws = line.split(':')\n",
    "    gameid = int(game.split(' ')[1])\n",
    "    for draw in draws.strip().split(';'):\n",
    "        for res in draw.strip().split(','):\n",
    "            score, color = res.strip().split(' ')\n",
    "            # if int(score) > col_limit[color]:\n",
    "            #     if debug:\n",
    "            #         print(f'game {gameid} is impossible: {score} {color}')\n",
    "            #     return 0\n",
    "            if int(score) > highest_per_col[color]:\n",
    "                highest_per_col[color] = int(score)\n",
    "\n",
    "    print(gameid, highest_per_col)\n",
    "    res = highest_per_col['blue'] * highest_per_col['green'] * highest_per_col['red']\n",
    "\n",
    "    return res"
   ]
  },
  {
   "cell_type": "code",
   "execution_count": 59,
   "metadata": {},
   "outputs": [
    {
     "name": "stdout",
     "output_type": "stream",
     "text": [
      "1 {'red': 4, 'green': 2, 'blue': 6}\n",
      "48\n",
      "2 {'red': 1, 'green': 3, 'blue': 4}\n",
      "12\n",
      "3 {'red': 20, 'green': 13, 'blue': 6}\n",
      "1560\n",
      "4 {'red': 14, 'green': 3, 'blue': 15}\n",
      "630\n",
      "5 {'red': 6, 'green': 3, 'blue': 2}\n",
      "36\n"
     ]
    }
   ],
   "source": [
    "for line in test:\n",
    "    print(parse_game(line))"
   ]
  },
  {
   "cell_type": "code",
   "execution_count": 60,
   "metadata": {},
   "outputs": [
    {
     "name": "stdout",
     "output_type": "stream",
     "text": [
      "1 {'red': 4, 'green': 5, 'blue': 7}\n",
      "2 {'red': 17, 'green': 7, 'blue': 2}\n",
      "3 {'red': 9, 'green': 15, 'blue': 15}\n",
      "4 {'red': 10, 'green': 8, 'blue': 20}\n",
      "5 {'red': 11, 'green': 6, 'blue': 11}\n",
      "6 {'red': 12, 'green': 5, 'blue': 3}\n",
      "7 {'red': 1, 'green': 12, 'blue': 8}\n",
      "8 {'red': 7, 'green': 13, 'blue': 4}\n",
      "9 {'red': 5, 'green': 10, 'blue': 13}\n",
      "10 {'red': 3, 'green': 18, 'blue': 3}\n",
      "11 {'red': 2, 'green': 14, 'blue': 11}\n",
      "12 {'red': 8, 'green': 10, 'blue': 4}\n",
      "13 {'red': 8, 'green': 10, 'blue': 1}\n",
      "14 {'red': 5, 'green': 2, 'blue': 6}\n",
      "15 {'red': 8, 'green': 1, 'blue': 13}\n",
      "16 {'red': 2, 'green': 20, 'blue': 5}\n",
      "17 {'red': 9, 'green': 8, 'blue': 19}\n",
      "18 {'red': 17, 'green': 9, 'blue': 8}\n",
      "19 {'red': 8, 'green': 13, 'blue': 3}\n",
      "20 {'red': 13, 'green': 2, 'blue': 13}\n",
      "21 {'red': 10, 'green': 6, 'blue': 16}\n",
      "22 {'red': 2, 'green': 15, 'blue': 4}\n",
      "23 {'red': 12, 'green': 4, 'blue': 5}\n",
      "24 {'red': 7, 'green': 2, 'blue': 6}\n",
      "25 {'red': 7, 'green': 7, 'blue': 9}\n",
      "26 {'red': 7, 'green': 4, 'blue': 5}\n",
      "27 {'red': 12, 'green': 15, 'blue': 1}\n",
      "28 {'red': 11, 'green': 4, 'blue': 5}\n",
      "29 {'red': 2, 'green': 17, 'blue': 10}\n",
      "30 {'red': 14, 'green': 13, 'blue': 5}\n",
      "31 {'red': 11, 'green': 5, 'blue': 11}\n",
      "32 {'red': 14, 'green': 9, 'blue': 8}\n",
      "33 {'red': 12, 'green': 7, 'blue': 19}\n",
      "34 {'red': 3, 'green': 19, 'blue': 18}\n",
      "35 {'red': 1, 'green': 2, 'blue': 4}\n",
      "36 {'red': 3, 'green': 11, 'blue': 8}\n",
      "37 {'red': 13, 'green': 2, 'blue': 12}\n",
      "38 {'red': 16, 'green': 2, 'blue': 2}\n",
      "39 {'red': 9, 'green': 14, 'blue': 17}\n",
      "40 {'red': 10, 'green': 3, 'blue': 20}\n",
      "41 {'red': 15, 'green': 11, 'blue': 5}\n",
      "42 {'red': 5, 'green': 6, 'blue': 17}\n",
      "43 {'red': 7, 'green': 13, 'blue': 17}\n",
      "44 {'red': 7, 'green': 15, 'blue': 2}\n",
      "45 {'red': 8, 'green': 5, 'blue': 2}\n",
      "46 {'red': 2, 'green': 1, 'blue': 11}\n",
      "47 {'red': 11, 'green': 12, 'blue': 13}\n",
      "48 {'red': 7, 'green': 11, 'blue': 7}\n",
      "49 {'red': 1, 'green': 5, 'blue': 9}\n",
      "50 {'red': 2, 'green': 14, 'blue': 9}\n",
      "51 {'red': 1, 'green': 1, 'blue': 12}\n",
      "52 {'red': 4, 'green': 9, 'blue': 7}\n",
      "53 {'red': 14, 'green': 10, 'blue': 9}\n",
      "54 {'red': 5, 'green': 8, 'blue': 13}\n",
      "55 {'red': 17, 'green': 17, 'blue': 17}\n",
      "56 {'red': 9, 'green': 10, 'blue': 7}\n",
      "57 {'red': 13, 'green': 1, 'blue': 5}\n",
      "58 {'red': 2, 'green': 2, 'blue': 14}\n",
      "59 {'red': 10, 'green': 9, 'blue': 2}\n",
      "60 {'red': 6, 'green': 12, 'blue': 12}\n",
      "61 {'red': 13, 'green': 1, 'blue': 5}\n",
      "62 {'red': 13, 'green': 1, 'blue': 11}\n",
      "63 {'red': 6, 'green': 15, 'blue': 15}\n",
      "64 {'red': 13, 'green': 17, 'blue': 7}\n",
      "65 {'red': 9, 'green': 3, 'blue': 17}\n",
      "66 {'red': 13, 'green': 11, 'blue': 20}\n",
      "67 {'red': 6, 'green': 1, 'blue': 10}\n",
      "68 {'red': 8, 'green': 6, 'blue': 5}\n",
      "69 {'red': 11, 'green': 14, 'blue': 2}\n",
      "70 {'red': 15, 'green': 5, 'blue': 10}\n",
      "71 {'red': 2, 'green': 12, 'blue': 4}\n",
      "72 {'red': 10, 'green': 6, 'blue': 8}\n",
      "73 {'red': 1, 'green': 1, 'blue': 12}\n",
      "74 {'red': 15, 'green': 8, 'blue': 7}\n",
      "75 {'red': 16, 'green': 9, 'blue': 4}\n",
      "76 {'red': 1, 'green': 6, 'blue': 14}\n",
      "77 {'red': 10, 'green': 8, 'blue': 11}\n",
      "78 {'red': 7, 'green': 7, 'blue': 8}\n",
      "79 {'red': 3, 'green': 4, 'blue': 15}\n",
      "80 {'red': 3, 'green': 17, 'blue': 14}\n",
      "81 {'red': 16, 'green': 17, 'blue': 15}\n",
      "82 {'red': 1, 'green': 8, 'blue': 12}\n",
      "83 {'red': 11, 'green': 2, 'blue': 20}\n",
      "84 {'red': 9, 'green': 4, 'blue': 14}\n",
      "85 {'red': 5, 'green': 14, 'blue': 9}\n",
      "86 {'red': 8, 'green': 10, 'blue': 15}\n",
      "87 {'red': 3, 'green': 13, 'blue': 9}\n",
      "88 {'red': 9, 'green': 8, 'blue': 15}\n",
      "89 {'red': 15, 'green': 13, 'blue': 6}\n",
      "90 {'red': 2, 'green': 9, 'blue': 2}\n",
      "91 {'red': 5, 'green': 6, 'blue': 6}\n",
      "92 {'red': 16, 'green': 18, 'blue': 4}\n",
      "93 {'red': 9, 'green': 14, 'blue': 8}\n",
      "94 {'red': 4, 'green': 11, 'blue': 4}\n",
      "95 {'red': 5, 'green': 9, 'blue': 17}\n",
      "96 {'red': 3, 'green': 3, 'blue': 14}\n",
      "97 {'red': 3, 'green': 2, 'blue': 7}\n",
      "98 {'red': 9, 'green': 17, 'blue': 9}\n",
      "99 {'red': 14, 'green': 5, 'blue': 6}\n",
      "100 {'red': 15, 'green': 5, 'blue': 13}\n"
     ]
    },
    {
     "data": {
      "text/plain": [
       "64097"
      ]
     },
     "execution_count": 60,
     "metadata": {},
     "output_type": "execute_result"
    }
   ],
   "source": [
    "sum = 0\n",
    "with open('input.txt', 'r') as f:\n",
    "    for line in f:\n",
    "        sum += parse_game(line)\n",
    "sum"
   ]
  }
 ],
 "metadata": {
  "kernelspec": {
   "display_name": "venv",
   "language": "python",
   "name": "python3"
  },
  "language_info": {
   "codemirror_mode": {
    "name": "ipython",
    "version": 3
   },
   "file_extension": ".py",
   "mimetype": "text/x-python",
   "name": "python",
   "nbconvert_exporter": "python",
   "pygments_lexer": "ipython3",
   "version": "3.10.9"
  }
 },
 "nbformat": 4,
 "nbformat_minor": 2
}
